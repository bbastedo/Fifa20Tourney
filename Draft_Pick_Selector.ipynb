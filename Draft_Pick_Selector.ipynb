{
 "cells": [
  {
   "cell_type": "markdown",
   "metadata": {},
   "source": [
    "## Random Team Pick Generator"
   ]
  },
  {
   "cell_type": "code",
   "execution_count": 1,
   "metadata": {},
   "outputs": [],
   "source": [
    "import pandas as pd\n",
    "import random"
   ]
  },
  {
   "cell_type": "code",
   "execution_count": 3,
   "metadata": {},
   "outputs": [
    {
     "name": "stdin",
     "output_type": "stream",
     "text": [
      "Enter number of times to shuffle the order:  8\n"
     ]
    }
   ],
   "source": [
    "randomizer = input(\"Enter number of times to shuffle the order: \")"
   ]
  },
  {
   "cell_type": "code",
   "execution_count": 4,
   "metadata": {},
   "outputs": [
    {
     "name": "stdout",
     "output_type": "stream",
     "text": [
      "\n"
     ]
    }
   ],
   "source": [
    "print(\"\")"
   ]
  },
  {
   "cell_type": "code",
   "execution_count": 5,
   "metadata": {},
   "outputs": [],
   "source": [
    "# create list of players to shuffle\n",
    "players = ['Ben B.','Blake Thib','Brennan W.','Cole D.','Dylan, Pretty','Jeremy','Johnny Vodka','Kyle','Lucas D','Erick \"Guapo\" Luna','Saul','Stan','Travis','Ty Webre','Tyler Bartz','Tyler Thompson']\n",
    "\n",
    "# for loop that shuffles deck as many times as given as an input in randomizer in cell 2\n",
    "for x in range(0, int(randomizer)):\n",
    "    random.shuffle(players)"
   ]
  },
  {
   "cell_type": "code",
   "execution_count": 6,
   "metadata": {},
   "outputs": [
    {
     "name": "stdout",
     "output_type": "stream",
     "text": [
      "   Pick             Shuffle\n",
      "0     1                Kyle\n",
      "1     2          Brennan W.\n",
      "2     3              Travis\n",
      "3     4                Stan\n",
      "4     5             Lucas D\n",
      "5     6      Tyler Thompson\n",
      "6     7              Ben B.\n",
      "7     8        Johnny Vodka\n",
      "8     9              Jeremy\n",
      "9    10         Tyler Bartz\n",
      "10   11                Saul\n",
      "11   12       Dylan, Pretty\n",
      "12   13            Ty Webre\n",
      "13   14          Blake Thib\n",
      "14   15             Cole D.\n",
      "15   16  Erick \"Guapo\" Luna\n",
      "--------------------------------------------------\n"
     ]
    }
   ],
   "source": [
    "#create df with order placement\n",
    "df = pd.DataFrame({'Pick':['1','2','3','4','5','6','7','8','9','10','11','12','13','14','15','16']})\n",
    "\n",
    "# create new column in df with shuffled players\n",
    "df['Shuffle'] = players\n",
    "\n",
    "# print out orders\n",
    "print(df)\n",
    "\n",
    "print(\"--------------------------------------------------\")"
   ]
  },
  {
   "cell_type": "code",
   "execution_count": 7,
   "metadata": {},
   "outputs": [
    {
     "name": "stdout",
     "output_type": "stream",
     "text": [
      "  Seed      Inglewood             Bompton\n",
      "0    1   Johnny Vodka          Blake Thib\n",
      "1    2           Saul             Cole D.\n",
      "2    3         Travis              Jeremy\n",
      "3    4        Lucas D  Erick \"Guapo\" Luna\n",
      "4    5    Tyler Bartz          Brennan W.\n",
      "5    6           Kyle              Ben B.\n",
      "6    7           Stan      Tyler Thompson\n",
      "7    8  Dylan, Pretty            Ty Webre\n"
     ]
    }
   ],
   "source": [
    "# final shuffle for bracks and positioning\n",
    "random.shuffle(players)\n",
    "\n",
    "# find length of lsit\n",
    "length = len(players)\n",
    "# find the middle index for slicing of list\n",
    "middle_index = length//2\n",
    "\n",
    "# slicing the list in half and assigning results to new list\n",
    "inglewood = players[:middle_index]\n",
    "bompton = players[middle_index:]\n",
    "\n",
    "# creating new dataFrame and creating our seedings\n",
    "seedings = pd.DataFrame({'Seed':['1','2','3','4','5','6','7','8']})\n",
    "seedings[\"Inglewood\"] = inglewood\n",
    "seedings[\"Bompton\"] = bompton\n",
    "\n",
    "print(seedings)\n"
   ]
  },
  {
   "cell_type": "code",
   "execution_count": null,
   "metadata": {},
   "outputs": [],
   "source": []
  }
 ],
 "metadata": {
  "kernelspec": {
   "display_name": "Python 3",
   "language": "python",
   "name": "python3"
  },
  "language_info": {
   "codemirror_mode": {
    "name": "ipython",
    "version": 3
   },
   "file_extension": ".py",
   "mimetype": "text/x-python",
   "name": "python",
   "nbconvert_exporter": "python",
   "pygments_lexer": "ipython3",
   "version": "3.7.3"
  }
 },
 "nbformat": 4,
 "nbformat_minor": 4
}
