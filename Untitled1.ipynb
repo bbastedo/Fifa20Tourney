{
 "cells": [
  {
   "cell_type": "code",
   "execution_count": 3,
   "metadata": {},
   "outputs": [],
   "source": [
    "import pandas as pd\n",
    "import random"
   ]
  },
  {
   "cell_type": "code",
   "execution_count": 4,
   "metadata": {},
   "outputs": [
    {
     "name": "stdin",
     "output_type": "stream",
     "text": [
      "Enter number of times to shuffle the order:  12\n"
     ]
    }
   ],
   "source": [
    "randomizer = input(\"Enter number of times to shuffle the order: \")"
   ]
  },
  {
   "cell_type": "code",
   "execution_count": 6,
   "metadata": {},
   "outputs": [
    {
     "name": "stdout",
     "output_type": "stream",
     "text": [
      "  Order       Shuffle\n",
      "0     1          Cole\n",
      "1     2           Ben\n",
      "2     3         Tyler\n",
      "3     4         Dylan\n",
      "4     5  Johnny Vodka\n",
      "5     6          Luna\n",
      "6     7       Brennan\n",
      "7     8        Luke D\n"
     ]
    }
   ],
   "source": [
    "# create list of players to shuffle\n",
    "players = ['Ben','Cole','Dylan','Brennan','Tyler','Johnny Vodka','Luke D','Luna']\n",
    "\n",
    "for x in range(0, int(randomizer)):\n",
    "    random.shuffle(players)\n",
    "\n",
    "#create df with order placement\n",
    "df = pd.DataFrame({'Order':['1','2','3','4','5','6','7','8']})\n",
    "\n",
    "# create new column in df with shuffled players\n",
    "df['Shuffle'] = players\n",
    "\n",
    "# print out orders\n",
    "print(df)\n"
   ]
  },
  {
   "cell_type": "code",
   "execution_count": 16,
   "metadata": {},
   "outputs": [
    {
     "name": "stdout",
     "output_type": "stream",
     "text": [
      "  Seed Inglewood       Bompton\n",
      "0    1      Cole  Johnny Vodka\n",
      "1    2       Ben          Luna\n",
      "2    3     Tyler       Brennan\n",
      "3    4     Dylan        Luke D\n"
     ]
    }
   ],
   "source": [
    "length = len(players)\n",
    "middle_index = length//2\n",
    "first_half = players[:middle_index]\n",
    "second_half = players[middle_index:]\n",
    "\n",
    "b1 = pd.DataFrame({'Seed':['1','2','3','4']})\n",
    "b1[\"Inglewood\"] = first_half\n",
    "b1[\"Bompton\"] = second_half\n",
    "\n",
    "\n",
    "print(b1)"
   ]
  },
  {
   "cell_type": "code",
   "execution_count": 14,
   "metadata": {},
   "outputs": [
    {
     "name": "stdout",
     "output_type": "stream",
     "text": [
      "['Johnny Vodka', 'Luna', 'Brennan', 'Luke D']\n"
     ]
    }
   ],
   "source": []
  },
  {
   "cell_type": "code",
   "execution_count": null,
   "metadata": {},
   "outputs": [],
   "source": []
  }
 ],
 "metadata": {
  "kernelspec": {
   "display_name": "Python 3",
   "language": "python",
   "name": "python3"
  },
  "language_info": {
   "codemirror_mode": {
    "name": "ipython",
    "version": 3
   },
   "file_extension": ".py",
   "mimetype": "text/x-python",
   "name": "python",
   "nbconvert_exporter": "python",
   "pygments_lexer": "ipython3",
   "version": "3.7.3"
  }
 },
 "nbformat": 4,
 "nbformat_minor": 4
}
