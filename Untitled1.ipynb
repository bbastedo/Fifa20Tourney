{
 "cells": [
  {
   "cell_type": "code",
   "execution_count": 3,
   "metadata": {},
   "outputs": [],
   "source": [
    "import pandas as pd\n",
    "import random"
   ]
  },
  {
   "cell_type": "code",
   "execution_count": 4,
   "metadata": {},
   "outputs": [
    {
     "name": "stdin",
     "output_type": "stream",
     "text": [
      "Enter number of times to shuffle the order:  12\n"
     ]
    }
   ],
   "source": [
    "randomizer = input(\"Enter number of times to shuffle the order: \")"
   ]
  },
  {
   "cell_type": "code",
   "execution_count": 5,
   "metadata": {},
   "outputs": [
    {
     "name": "stdout",
     "output_type": "stream",
     "text": [
      "  Order       Shuffle\n",
      "0     1         Tyler\n",
      "1     2           Ben\n",
      "2     3         Dylan\n",
      "3     4       Brennan\n",
      "4     5        Luke D\n",
      "5     6          Luna\n",
      "6     7          Cole\n",
      "7     8  Johnny Vodka\n"
     ]
    }
   ],
   "source": [
    "# create list of players to shuffle\n",
    "players = ['Ben','Cole','Dylan','Brennan','Tyler','Johnny Vodka','Luke D','Luna']\n",
    "\n",
    "for x in range(0, int(randomizer)):\n",
    "    random.shuffle(players)\n",
    "\n",
    "#create df with order placement\n",
    "df = pd.DataFrame({'Order':['1','2','3','4','5','6','7','8']})\n",
    "\n",
    "# create new column in df with shuffled players\n",
    "df['Shuffle'] = players\n",
    "\n",
    "# print out orders\n",
    "print(df)\n"
   ]
  },
  {
   "cell_type": "code",
   "execution_count": null,
   "metadata": {},
   "outputs": [],
   "source": []
  }
 ],
 "metadata": {
  "kernelspec": {
   "display_name": "Python 3",
   "language": "python",
   "name": "python3"
  },
  "language_info": {
   "codemirror_mode": {
    "name": "ipython",
    "version": 3
   },
   "file_extension": ".py",
   "mimetype": "text/x-python",
   "name": "python",
   "nbconvert_exporter": "python",
   "pygments_lexer": "ipython3",
   "version": "3.7.3"
  }
 },
 "nbformat": 4,
 "nbformat_minor": 4
}
