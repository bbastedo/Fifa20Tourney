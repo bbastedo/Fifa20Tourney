{
 "cells": [
  {
   "cell_type": "markdown",
   "metadata": {},
   "source": [
    "## Random Team Pick Generator"
   ]
  },
  {
   "cell_type": "code",
   "execution_count": 99,
   "metadata": {},
   "outputs": [],
   "source": [
    "import pandas as pd\n",
    "import random"
   ]
  },
  {
   "cell_type": "code",
   "execution_count": 109,
   "metadata": {},
   "outputs": [
    {
     "name": "stdout",
     "output_type": "stream",
     "text": [
      "  Order       Shuffle\n",
      "0     1  Johnny Vodka\n",
      "1     2           Ben\n",
      "2     3       Brennan\n",
      "3     4        Luke D\n",
      "4     5         Dylan\n",
      "5     6         Tyler\n",
      "6     7          Cole\n",
      "7     8          Luna\n"
     ]
    }
   ],
   "source": [
    "# create list of players to shuffle\n",
    "players = ['Ben','Cole','Dylan','Brennan','Tyler','Johnny Vodka','Luke D','Luna']\n",
    "\n",
    "# shuffle the players list for the first time\n",
    "random.shuffle(players)\n",
    "\n",
    "#create df with order placement\n",
    "df = pd.DataFrame({'Order':['1','2','3','4','5','6','7','8']})\n",
    "\n",
    "# create new column in df with shuffled players\n",
    "df['Shuffle'] = players\n",
    "\n",
    "# shuffle the players list for the second time\n",
    "random.shuffle(players)\n",
    "\n",
    "# create new column in df with shuffled players\n",
    "df['Second Shuffle'] = players\n",
    "\n",
    "# shuffle the players list for the third and final time\n",
    "random.shuffle(players)\n",
    "\n",
    "# create new column in df with shuffled players\n",
    "df['Third Shuffle'] = players\n",
    "\n",
    "# print out orders\n",
    "print(df)\n"
   ]
  },
  {
   "cell_type": "code",
   "execution_count": 108,
   "metadata": {},
   "outputs": [
    {
     "data": {
      "text/html": [
       "<div>\n",
       "<style scoped>\n",
       "    .dataframe tbody tr th:only-of-type {\n",
       "        vertical-align: middle;\n",
       "    }\n",
       "\n",
       "    .dataframe tbody tr th {\n",
       "        vertical-align: top;\n",
       "    }\n",
       "\n",
       "    .dataframe thead th {\n",
       "        text-align: right;\n",
       "    }\n",
       "</style>\n",
       "<table border=\"1\" class=\"dataframe\">\n",
       "  <thead>\n",
       "    <tr style=\"text-align: right;\">\n",
       "      <th></th>\n",
       "      <th>Order</th>\n",
       "      <th>Third Shuffle</th>\n",
       "    </tr>\n",
       "  </thead>\n",
       "  <tbody>\n",
       "    <tr>\n",
       "      <th>0</th>\n",
       "      <td>1</td>\n",
       "      <td>Ben</td>\n",
       "    </tr>\n",
       "    <tr>\n",
       "      <th>1</th>\n",
       "      <td>2</td>\n",
       "      <td>Dylan</td>\n",
       "    </tr>\n",
       "    <tr>\n",
       "      <th>2</th>\n",
       "      <td>3</td>\n",
       "      <td>Brennan</td>\n",
       "    </tr>\n",
       "    <tr>\n",
       "      <th>3</th>\n",
       "      <td>4</td>\n",
       "      <td>Luna</td>\n",
       "    </tr>\n",
       "    <tr>\n",
       "      <th>4</th>\n",
       "      <td>5</td>\n",
       "      <td>Tyler</td>\n",
       "    </tr>\n",
       "    <tr>\n",
       "      <th>5</th>\n",
       "      <td>6</td>\n",
       "      <td>Luke D</td>\n",
       "    </tr>\n",
       "    <tr>\n",
       "      <th>6</th>\n",
       "      <td>7</td>\n",
       "      <td>Cole</td>\n",
       "    </tr>\n",
       "    <tr>\n",
       "      <th>7</th>\n",
       "      <td>8</td>\n",
       "      <td>Johnny Vodka</td>\n",
       "    </tr>\n",
       "  </tbody>\n",
       "</table>\n",
       "</div>"
      ],
      "text/plain": [
       "  Order Third Shuffle\n",
       "0     1           Ben\n",
       "1     2         Dylan\n",
       "2     3       Brennan\n",
       "3     4          Luna\n",
       "4     5         Tyler\n",
       "5     6        Luke D\n",
       "6     7          Cole\n",
       "7     8  Johnny Vodka"
      ]
     },
     "execution_count": 108,
     "metadata": {},
     "output_type": "execute_result"
    }
   ],
   "source": [
    "final_draw_df = df.drop(columns=['Shuffle', 'Second Shuffle'])\n",
    "final_draw_df.reset_index(drop=True,)"
   ]
  },
  {
   "cell_type": "code",
   "execution_count": null,
   "metadata": {},
   "outputs": [],
   "source": []
  }
 ],
 "metadata": {
  "kernelspec": {
   "display_name": "Python 3",
   "language": "python",
   "name": "python3"
  },
  "language_info": {
   "codemirror_mode": {
    "name": "ipython",
    "version": 3
   },
   "file_extension": ".py",
   "mimetype": "text/x-python",
   "name": "python",
   "nbconvert_exporter": "python",
   "pygments_lexer": "ipython3",
   "version": "3.7.3"
  }
 },
 "nbformat": 4,
 "nbformat_minor": 4
}
